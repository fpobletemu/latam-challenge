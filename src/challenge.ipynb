{
 "cells": [
  {
   "cell_type": "markdown",
   "metadata": {},
   "source": [
    "En este archivo puedes escribir lo que estimes conveniente. Te recomendamos detallar tu solución y todas las suposiciones que estás considerando. Aquí puedes ejecutar las funciones que definiste en los otros archivos de la carpeta src, medir el tiempo, memoria, etc."
   ]
  },
  {
   "cell_type": "markdown",
   "metadata": {},
   "source": [
    "# Supuestos\n",
    "- se utilizará encoding utf-8 por defecto\n",
    "- para encontrar al usuario mas influyente se entenderá que las menciones (@) se cuenta con el campo 'quote_count'\n"
   ]
  },
  {
   "cell_type": "code",
   "execution_count": 4,
   "metadata": {},
   "outputs": [],
   "source": [
    "archivo_tweets = r\"C:\\Users\\fipob\\Desktop\\challenge_DE\\src\\farmers-protest-tweets-2021-2-4.json\""
   ]
  },
  {
   "cell_type": "markdown",
   "metadata": {},
   "source": [
    "### 1. Las top 10 fechas donde hay más tweets. Mencionar el usuario (username) que más publicaciones tiene por cada uno de esos días."
   ]
  },
  {
   "cell_type": "code",
   "execution_count": 5,
   "metadata": {},
   "outputs": [
    {
     "name": "stdout",
     "output_type": "stream",
     "text": [
      "Filename: c:\\Users\\fipob\\Desktop\\latam-challenge\\src\\q1_time.py\n",
      "\n",
      "Line #    Mem usage    Increment  Occurrences   Line Contents\n",
      "=============================================================\n",
      "     8     63.8 MiB     63.8 MiB           1   @profile\n",
      "     9                                         def q1_time(file_path: str) -> List[Tuple[datetime.date, str]]:\n",
      "    10                                             \n",
      "    11                                             # Contador de Tweets por fecha\n",
      "    12     63.8 MiB      0.0 MiB           1       tweets_por_fecha = Counter()\n",
      "    13                                         \n",
      "    14                                             # Diccionario para almacenar el recuento de publicaciones por usuario por fecha\n",
      "    15     69.1 MiB     -0.0 MiB          27       publicaciones_por_usuario_por_fecha = defaultdict(lambda: defaultdict(int)) # (key: value)\n",
      "    16                                         \n",
      "    17     63.8 MiB      0.0 MiB           1       archivo_tweets = file_path\n",
      "    18                                         \n",
      "    19     69.8 MiB      0.0 MiB           2       with open(archivo_tweets, 'r', encoding='utf-8') as file:\n",
      "    20     69.8 MiB   -154.8 MiB      117408           for line in file:\n",
      "    21     69.8 MiB   -154.0 MiB      117407               tweet = json.loads(line)\n",
      "    22     69.8 MiB   -155.9 MiB      117407               fecha = tweet['date'][:10] # Tomar solo la parte de la fecha (sin la hora)\n",
      "    23     69.8 MiB   -156.5 MiB      117407               usuario = tweet['user']['username']\n",
      "    24                                         \n",
      "    25                                                     # Incrementar el recuento de tweets por fecha\n",
      "    26     69.8 MiB   -156.5 MiB      117407               tweets_por_fecha[fecha] += 1\n",
      "    27                                         \n",
      "    28                                                     # Incrementar el recuento de publicaciones por usuario por fecha\n",
      "    29     69.8 MiB   -155.2 MiB      117407               publicaciones_por_usuario_por_fecha[fecha][usuario] += 1\n",
      "    30                                         \n",
      "    31                                             # Encontrar las 10 fechas con más tweets, ordeno por el valor de la llave (conteo de tweets)\n",
      "    32     69.8 MiB      0.0 MiB          27       top_fechas = sorted(tweets_por_fecha.items(), key=lambda x: x[1], reverse=True)[:10]\n",
      "    33                                             \n",
      "    34     69.8 MiB      0.0 MiB           1       result = []\n",
      "    35                                             # Imprimir las 10 fechas con más tweets y el usuario con más publicaciones en cada fecha\n",
      "    36     69.8 MiB      0.0 MiB          11       for fecha,cantidad in top_fechas:\n",
      "    37     69.8 MiB      0.0 MiB          10           usuario_mas_publicaciones = max(publicaciones_por_usuario_por_fecha[fecha].items(), key=itemgetter(1))[0]\n",
      "    38                                                 #Se convierte la fecha de str a datetime\n",
      "    39     69.8 MiB      0.0 MiB          10           dt_fecha = datetime.strptime(fecha, '%Y-%m-%d').date()\n",
      "    40     69.8 MiB      0.0 MiB          10           result.append(tuple([dt_fecha,usuario_mas_publicaciones]))\n",
      "    41                                         \n",
      "    42                                             #Retornar el resultado asegurando que sea una lista\n",
      "    43     69.8 MiB      0.0 MiB           1       return list(result)\n",
      "\n",
      "\n",
      "#0 - (datetime.date(2021, 2, 12), 'RanbirS00614606')\n",
      "#1 - (datetime.date(2021, 2, 13), 'MaanDee08215437')\n",
      "#2 - (datetime.date(2021, 2, 17), 'RaaJVinderkaur')\n",
      "#3 - (datetime.date(2021, 2, 16), 'jot__b')\n",
      "#4 - (datetime.date(2021, 2, 14), 'rebelpacifist')\n",
      "#5 - (datetime.date(2021, 2, 18), 'neetuanjle_nitu')\n",
      "#6 - (datetime.date(2021, 2, 15), 'jot__b')\n",
      "#7 - (datetime.date(2021, 2, 20), 'MangalJ23056160')\n",
      "#8 - (datetime.date(2021, 2, 23), 'Surrypuria')\n",
      "#9 - (datetime.date(2021, 2, 19), 'Preetm91')\n"
     ]
    }
   ],
   "source": [
    "from q1_time import q1_time\n",
    "\n",
    "resultado = q1_time(file_path=archivo_tweets)\n",
    "for i,el in enumerate(resultado):\n",
    "    print(f'#{i+1} - {el}')"
   ]
  }
 ],
 "metadata": {
  "kernelspec": {
   "display_name": "Python 3",
   "language": "python",
   "name": "python3"
  },
  "language_info": {
   "codemirror_mode": {
    "name": "ipython",
    "version": 3
   },
   "file_extension": ".py",
   "mimetype": "text/x-python",
   "name": "python",
   "nbconvert_exporter": "python",
   "pygments_lexer": "ipython3",
   "version": "3.10.6"
  },
  "orig_nbformat": 4
 },
 "nbformat": 4,
 "nbformat_minor": 2
}
